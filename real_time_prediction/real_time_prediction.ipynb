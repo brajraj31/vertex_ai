{
 "cells": [
  {
   "cell_type": "code",
   "execution_count": 2,
   "id": "d05af773-5863-41a0-9572-fb203745cc03",
   "metadata": {},
   "outputs": [],
   "source": [
    "from google.cloud import bigquery\n",
    "import google.cloud.aiplatform as aip"
   ]
  },
  {
   "cell_type": "code",
   "execution_count": 3,
   "id": "7678ebc2-e246-45a6-8aed-62f20bbc50f3",
   "metadata": {},
   "outputs": [],
   "source": [
    "PROJECT_ID = \"qwiklabs-gcp-01-df00ef1cf655\"\n",
    "REGION = \"us-central1\""
   ]
  },
  {
   "cell_type": "code",
   "execution_count": 4,
   "id": "5c653ed0-9401-481a-823b-fcddb5d2d363",
   "metadata": {},
   "outputs": [],
   "source": [
    "#Load data from biguery to pandas dataframe\n",
    "\n",
    "client = bigquery.Client(location=\"us-central1\", project=PROJECT_ID)\n",
    "table_id = \"qwiklabs-gcp-01-df00ef1cf655.credit.credit_data\"\n",
    "data = client.query(query= \"SELECT * FROM qwiklabs-gcp-01-df00ef1cf655.credit.credit_data LIMIT 100\")\n",
    "df = data.to_dataframe()"
   ]
  },
  {
   "cell_type": "code",
   "execution_count": 5,
   "id": "d8b7372e-e8b9-465b-a536-be69aae6e31a",
   "metadata": {},
   "outputs": [],
   "source": [
    "#convert dataframe to dict\n",
    "\n",
    "new_df = df.drop(columns=['uid', 'class'])\n",
    "ip_data = new_df.head(10)\n",
    "ip_data = ip_data.astype(str)\n",
    "ip_dict = ip_data.T.to_dict().values()"
   ]
  },
  {
   "cell_type": "code",
   "execution_count": 6,
   "id": "137bdff0-c260-44d5-85b1-bc533b29bb33",
   "metadata": {},
   "outputs": [],
   "source": [
    "endpoint = aip.Endpoint(endpoint_name = '3010660748943687680', project=PROJECT_ID, location='us-central1')\n",
    "response = endpoint.predict(ip_dict)"
   ]
  },
  {
   "cell_type": "code",
   "execution_count": 8,
   "id": "4ef7aaae-4c7d-4b6e-acbd-ffdc88181a55",
   "metadata": {},
   "outputs": [
    {
     "name": "stdout",
     "output_type": "stream",
     "text": [
      "{'scores': [0.9995893836021423, 0.0004106451524421573], 'classes': ['0', '1']}\n",
      "{'scores': [0.9997668862342834, 0.0002330496645299718], 'classes': ['0', '1']}\n",
      "{'classes': ['0', '1'], 'scores': [0.9997137188911438, 0.0002863074187189341]}\n",
      "{'classes': ['0', '1'], 'scores': [0.9996871948242188, 0.0003127176314592361]}\n",
      "{'scores': [0.9994317293167114, 0.0005681620095856488], 'classes': ['0', '1']}\n",
      "{'scores': [0.9998094439506531, 0.0001905228564282879], 'classes': ['0', '1']}\n",
      "{'scores': [0.9996927380561829, 0.0003072416293434799], 'classes': ['0', '1']}\n",
      "{'scores': [0.9992913603782654, 0.0007085721590556204], 'classes': ['0', '1']}\n",
      "{'classes': ['0', '1'], 'scores': [0.9993150234222412, 0.000685076869558543]}\n",
      "{'scores': [0.9992673397064209, 0.0007326480117626488], 'classes': ['0', '1']}\n"
     ]
    }
   ],
   "source": [
    "for prediction_ in response.predictions:\n",
    "        print(prediction_)"
   ]
  },
  {
   "cell_type": "code",
   "execution_count": null,
   "id": "b207c213-54af-412f-b4d5-e1f575e217cf",
   "metadata": {},
   "outputs": [],
   "source": []
  }
 ],
 "metadata": {
  "environment": {
   "kernel": "python3",
   "name": "tf2-gpu.2-1.m96",
   "type": "gcloud",
   "uri": "gcr.io/deeplearning-platform-release/tf2-gpu.2-1:m96"
  },
  "kernelspec": {
   "display_name": "Python 3",
   "language": "python",
   "name": "python3"
  },
  "language_info": {
   "codemirror_mode": {
    "name": "ipython",
    "version": 3
   },
   "file_extension": ".py",
   "mimetype": "text/x-python",
   "name": "python",
   "nbconvert_exporter": "python",
   "pygments_lexer": "ipython3",
   "version": "3.7.12"
  }
 },
 "nbformat": 4,
 "nbformat_minor": 5
}
