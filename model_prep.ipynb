{
 "cells": [
  {
   "cell_type": "code",
   "execution_count": 1,
   "id": "36be0119",
   "metadata": {},
   "outputs": [],
   "source": [
    "import pandas as pd"
   ]
  },
  {
   "cell_type": "code",
   "execution_count": 2,
   "id": "178ca484",
   "metadata": {},
   "outputs": [],
   "source": [
    "df = pd.read_csv('creditcard.csv')"
   ]
  },
  {
   "cell_type": "code",
   "execution_count": 3,
   "id": "9ac10d9c",
   "metadata": {},
   "outputs": [
    {
     "data": {
      "text/html": [
       "<div>\n",
       "<style scoped>\n",
       "    .dataframe tbody tr th:only-of-type {\n",
       "        vertical-align: middle;\n",
       "    }\n",
       "\n",
       "    .dataframe tbody tr th {\n",
       "        vertical-align: top;\n",
       "    }\n",
       "\n",
       "    .dataframe thead th {\n",
       "        text-align: right;\n",
       "    }\n",
       "</style>\n",
       "<table border=\"1\" class=\"dataframe\">\n",
       "  <thead>\n",
       "    <tr style=\"text-align: right;\">\n",
       "      <th></th>\n",
       "      <th>uid</th>\n",
       "      <th>V1</th>\n",
       "      <th>V2</th>\n",
       "      <th>V3</th>\n",
       "      <th>V4</th>\n",
       "      <th>V5</th>\n",
       "      <th>V6</th>\n",
       "      <th>V7</th>\n",
       "      <th>V8</th>\n",
       "      <th>V9</th>\n",
       "      <th>...</th>\n",
       "      <th>V21</th>\n",
       "      <th>V22</th>\n",
       "      <th>V23</th>\n",
       "      <th>V24</th>\n",
       "      <th>V25</th>\n",
       "      <th>V26</th>\n",
       "      <th>V27</th>\n",
       "      <th>V28</th>\n",
       "      <th>amount</th>\n",
       "      <th>class</th>\n",
       "    </tr>\n",
       "  </thead>\n",
       "  <tbody>\n",
       "    <tr>\n",
       "      <th>0</th>\n",
       "      <td>A1</td>\n",
       "      <td>-1.359807</td>\n",
       "      <td>-0.072781</td>\n",
       "      <td>2.536347</td>\n",
       "      <td>1.378155</td>\n",
       "      <td>-0.338321</td>\n",
       "      <td>0.462388</td>\n",
       "      <td>0.239599</td>\n",
       "      <td>0.098698</td>\n",
       "      <td>0.363787</td>\n",
       "      <td>...</td>\n",
       "      <td>-0.018307</td>\n",
       "      <td>0.277838</td>\n",
       "      <td>-0.110474</td>\n",
       "      <td>0.066928</td>\n",
       "      <td>0.128539</td>\n",
       "      <td>-0.189115</td>\n",
       "      <td>0.133558</td>\n",
       "      <td>-0.021053</td>\n",
       "      <td>149.62</td>\n",
       "      <td>0</td>\n",
       "    </tr>\n",
       "    <tr>\n",
       "      <th>1</th>\n",
       "      <td>A2</td>\n",
       "      <td>1.191857</td>\n",
       "      <td>0.266151</td>\n",
       "      <td>0.166480</td>\n",
       "      <td>0.448154</td>\n",
       "      <td>0.060018</td>\n",
       "      <td>-0.082361</td>\n",
       "      <td>-0.078803</td>\n",
       "      <td>0.085102</td>\n",
       "      <td>-0.255425</td>\n",
       "      <td>...</td>\n",
       "      <td>-0.225775</td>\n",
       "      <td>-0.638672</td>\n",
       "      <td>0.101288</td>\n",
       "      <td>-0.339846</td>\n",
       "      <td>0.167170</td>\n",
       "      <td>0.125895</td>\n",
       "      <td>-0.008983</td>\n",
       "      <td>0.014724</td>\n",
       "      <td>2.69</td>\n",
       "      <td>0</td>\n",
       "    </tr>\n",
       "  </tbody>\n",
       "</table>\n",
       "<p>2 rows × 31 columns</p>\n",
       "</div>"
      ],
      "text/plain": [
       "  uid        V1        V2        V3        V4        V5        V6        V7  \\\n",
       "0  A1 -1.359807 -0.072781  2.536347  1.378155 -0.338321  0.462388  0.239599   \n",
       "1  A2  1.191857  0.266151  0.166480  0.448154  0.060018 -0.082361 -0.078803   \n",
       "\n",
       "         V8        V9  ...       V21       V22       V23       V24       V25  \\\n",
       "0  0.098698  0.363787  ... -0.018307  0.277838 -0.110474  0.066928  0.128539   \n",
       "1  0.085102 -0.255425  ... -0.225775 -0.638672  0.101288 -0.339846  0.167170   \n",
       "\n",
       "        V26       V27       V28  amount  class  \n",
       "0 -0.189115  0.133558 -0.021053  149.62      0  \n",
       "1  0.125895 -0.008983  0.014724    2.69      0  \n",
       "\n",
       "[2 rows x 31 columns]"
      ]
     },
     "execution_count": 3,
     "metadata": {},
     "output_type": "execute_result"
    }
   ],
   "source": [
    "df.head(2)"
   ]
  },
  {
   "cell_type": "code",
   "execution_count": 4,
   "id": "3e5a36bc",
   "metadata": {},
   "outputs": [],
   "source": [
    "df = df.drop(columns = 'uid')"
   ]
  },
  {
   "cell_type": "code",
   "execution_count": 5,
   "id": "cb6ab71e",
   "metadata": {},
   "outputs": [],
   "source": [
    "X = df.drop(columns = 'class')\n",
    "y = df[['class']]"
   ]
  },
  {
   "cell_type": "code",
   "execution_count": 6,
   "id": "d3eb2ce4",
   "metadata": {},
   "outputs": [
    {
     "data": {
      "text/html": [
       "<div>\n",
       "<style scoped>\n",
       "    .dataframe tbody tr th:only-of-type {\n",
       "        vertical-align: middle;\n",
       "    }\n",
       "\n",
       "    .dataframe tbody tr th {\n",
       "        vertical-align: top;\n",
       "    }\n",
       "\n",
       "    .dataframe thead th {\n",
       "        text-align: right;\n",
       "    }\n",
       "</style>\n",
       "<table border=\"1\" class=\"dataframe\">\n",
       "  <thead>\n",
       "    <tr style=\"text-align: right;\">\n",
       "      <th></th>\n",
       "      <th>V1</th>\n",
       "      <th>V2</th>\n",
       "      <th>V3</th>\n",
       "      <th>V4</th>\n",
       "      <th>V5</th>\n",
       "      <th>V6</th>\n",
       "      <th>V7</th>\n",
       "      <th>V8</th>\n",
       "      <th>V9</th>\n",
       "      <th>V10</th>\n",
       "      <th>...</th>\n",
       "      <th>V20</th>\n",
       "      <th>V21</th>\n",
       "      <th>V22</th>\n",
       "      <th>V23</th>\n",
       "      <th>V24</th>\n",
       "      <th>V25</th>\n",
       "      <th>V26</th>\n",
       "      <th>V27</th>\n",
       "      <th>V28</th>\n",
       "      <th>amount</th>\n",
       "    </tr>\n",
       "  </thead>\n",
       "  <tbody>\n",
       "    <tr>\n",
       "      <th>count</th>\n",
       "      <td>203588.000000</td>\n",
       "      <td>203588.000000</td>\n",
       "      <td>203588.000000</td>\n",
       "      <td>203588.000000</td>\n",
       "      <td>203588.000000</td>\n",
       "      <td>203588.000000</td>\n",
       "      <td>203588.000000</td>\n",
       "      <td>203588.000000</td>\n",
       "      <td>203588.000000</td>\n",
       "      <td>203588.000000</td>\n",
       "      <td>...</td>\n",
       "      <td>203588.000000</td>\n",
       "      <td>203588.000000</td>\n",
       "      <td>203588.000000</td>\n",
       "      <td>203588.000000</td>\n",
       "      <td>203588.000000</td>\n",
       "      <td>203588.000000</td>\n",
       "      <td>203588.000000</td>\n",
       "      <td>203588.000000</td>\n",
       "      <td>203588.000000</td>\n",
       "      <td>203588.000000</td>\n",
       "    </tr>\n",
       "    <tr>\n",
       "      <th>mean</th>\n",
       "      <td>-0.096602</td>\n",
       "      <td>0.001749</td>\n",
       "      <td>0.297813</td>\n",
       "      <td>0.071057</td>\n",
       "      <td>-0.102599</td>\n",
       "      <td>0.043076</td>\n",
       "      <td>-0.045921</td>\n",
       "      <td>0.014353</td>\n",
       "      <td>0.008658</td>\n",
       "      <td>-0.009599</td>\n",
       "      <td>...</td>\n",
       "      <td>0.018098</td>\n",
       "      <td>-0.013531</td>\n",
       "      <td>-0.043495</td>\n",
       "      <td>-0.014629</td>\n",
       "      <td>0.003749</td>\n",
       "      <td>0.057627</td>\n",
       "      <td>0.005722</td>\n",
       "      <td>0.001393</td>\n",
       "      <td>0.001819</td>\n",
       "      <td>89.739175</td>\n",
       "    </tr>\n",
       "    <tr>\n",
       "      <th>std</th>\n",
       "      <td>1.897881</td>\n",
       "      <td>1.626282</td>\n",
       "      <td>1.454765</td>\n",
       "      <td>1.400509</td>\n",
       "      <td>1.363207</td>\n",
       "      <td>1.312909</td>\n",
       "      <td>1.218568</td>\n",
       "      <td>1.209052</td>\n",
       "      <td>1.133569</td>\n",
       "      <td>1.093279</td>\n",
       "      <td>...</td>\n",
       "      <td>0.754828</td>\n",
       "      <td>0.737302</td>\n",
       "      <td>0.693905</td>\n",
       "      <td>0.614535</td>\n",
       "      <td>0.603867</td>\n",
       "      <td>0.494384</td>\n",
       "      <td>0.488131</td>\n",
       "      <td>0.395266</td>\n",
       "      <td>0.318081</td>\n",
       "      <td>248.499234</td>\n",
       "    </tr>\n",
       "    <tr>\n",
       "      <th>min</th>\n",
       "      <td>-56.407510</td>\n",
       "      <td>-72.715728</td>\n",
       "      <td>-33.680984</td>\n",
       "      <td>-5.683171</td>\n",
       "      <td>-42.147898</td>\n",
       "      <td>-26.160506</td>\n",
       "      <td>-43.557242</td>\n",
       "      <td>-73.216718</td>\n",
       "      <td>-13.434066</td>\n",
       "      <td>-24.588262</td>\n",
       "      <td>...</td>\n",
       "      <td>-25.222345</td>\n",
       "      <td>-34.830382</td>\n",
       "      <td>-10.933144</td>\n",
       "      <td>-44.807735</td>\n",
       "      <td>-2.836627</td>\n",
       "      <td>-10.295397</td>\n",
       "      <td>-2.604551</td>\n",
       "      <td>-22.565679</td>\n",
       "      <td>-11.710896</td>\n",
       "      <td>0.000000</td>\n",
       "    </tr>\n",
       "    <tr>\n",
       "      <th>25%</th>\n",
       "      <td>-0.959394</td>\n",
       "      <td>-0.583166</td>\n",
       "      <td>-0.373023</td>\n",
       "      <td>-0.796733</td>\n",
       "      <td>-0.777825</td>\n",
       "      <td>-0.714067</td>\n",
       "      <td>-0.574342</td>\n",
       "      <td>-0.183670</td>\n",
       "      <td>-0.662060</td>\n",
       "      <td>-0.520262</td>\n",
       "      <td>...</td>\n",
       "      <td>-0.195863</td>\n",
       "      <td>-0.226757</td>\n",
       "      <td>-0.536808</td>\n",
       "      <td>-0.168510</td>\n",
       "      <td>-0.343145</td>\n",
       "      <td>-0.245531</td>\n",
       "      <td>-0.331229</td>\n",
       "      <td>-0.067743</td>\n",
       "      <td>-0.042899</td>\n",
       "      <td>5.990000</td>\n",
       "    </tr>\n",
       "    <tr>\n",
       "      <th>50%</th>\n",
       "      <td>-0.079504</td>\n",
       "      <td>0.079711</td>\n",
       "      <td>0.475380</td>\n",
       "      <td>0.072018</td>\n",
       "      <td>-0.160554</td>\n",
       "      <td>-0.221798</td>\n",
       "      <td>-0.006564</td>\n",
       "      <td>0.041380</td>\n",
       "      <td>-0.072437</td>\n",
       "      <td>-0.099266</td>\n",
       "      <td>...</td>\n",
       "      <td>-0.045317</td>\n",
       "      <td>-0.041537</td>\n",
       "      <td>-0.031153</td>\n",
       "      <td>-0.028095</td>\n",
       "      <td>0.051784</td>\n",
       "      <td>0.099402</td>\n",
       "      <td>-0.060953</td>\n",
       "      <td>0.005517</td>\n",
       "      <td>0.018075</td>\n",
       "      <td>23.000000</td>\n",
       "    </tr>\n",
       "    <tr>\n",
       "      <th>75%</th>\n",
       "      <td>1.217861</td>\n",
       "      <td>0.783310</td>\n",
       "      <td>1.211204</td>\n",
       "      <td>0.878719</td>\n",
       "      <td>0.478169</td>\n",
       "      <td>0.442026</td>\n",
       "      <td>0.507802</td>\n",
       "      <td>0.336899</td>\n",
       "      <td>0.624023</td>\n",
       "      <td>0.443775</td>\n",
       "      <td>...</td>\n",
       "      <td>0.149076</td>\n",
       "      <td>0.153564</td>\n",
       "      <td>0.432131</td>\n",
       "      <td>0.116563</td>\n",
       "      <td>0.422644</td>\n",
       "      <td>0.383219</td>\n",
       "      <td>0.260759</td>\n",
       "      <td>0.089114</td>\n",
       "      <td>0.078104</td>\n",
       "      <td>79.282500</td>\n",
       "    </tr>\n",
       "    <tr>\n",
       "      <th>max</th>\n",
       "      <td>2.454930</td>\n",
       "      <td>22.057729</td>\n",
       "      <td>9.382558</td>\n",
       "      <td>16.875344</td>\n",
       "      <td>34.801666</td>\n",
       "      <td>22.529298</td>\n",
       "      <td>36.677268</td>\n",
       "      <td>20.007208</td>\n",
       "      <td>15.594995</td>\n",
       "      <td>23.745136</td>\n",
       "      <td>...</td>\n",
       "      <td>39.420904</td>\n",
       "      <td>27.202839</td>\n",
       "      <td>10.503090</td>\n",
       "      <td>19.002942</td>\n",
       "      <td>4.022866</td>\n",
       "      <td>7.519589</td>\n",
       "      <td>3.517346</td>\n",
       "      <td>12.152401</td>\n",
       "      <td>33.847808</td>\n",
       "      <td>19656.530000</td>\n",
       "    </tr>\n",
       "  </tbody>\n",
       "</table>\n",
       "<p>8 rows × 29 columns</p>\n",
       "</div>"
      ],
      "text/plain": [
       "                  V1             V2             V3             V4  \\\n",
       "count  203588.000000  203588.000000  203588.000000  203588.000000   \n",
       "mean       -0.096602       0.001749       0.297813       0.071057   \n",
       "std         1.897881       1.626282       1.454765       1.400509   \n",
       "min       -56.407510     -72.715728     -33.680984      -5.683171   \n",
       "25%        -0.959394      -0.583166      -0.373023      -0.796733   \n",
       "50%        -0.079504       0.079711       0.475380       0.072018   \n",
       "75%         1.217861       0.783310       1.211204       0.878719   \n",
       "max         2.454930      22.057729       9.382558      16.875344   \n",
       "\n",
       "                  V5             V6             V7             V8  \\\n",
       "count  203588.000000  203588.000000  203588.000000  203588.000000   \n",
       "mean       -0.102599       0.043076      -0.045921       0.014353   \n",
       "std         1.363207       1.312909       1.218568       1.209052   \n",
       "min       -42.147898     -26.160506     -43.557242     -73.216718   \n",
       "25%        -0.777825      -0.714067      -0.574342      -0.183670   \n",
       "50%        -0.160554      -0.221798      -0.006564       0.041380   \n",
       "75%         0.478169       0.442026       0.507802       0.336899   \n",
       "max        34.801666      22.529298      36.677268      20.007208   \n",
       "\n",
       "                  V9            V10  ...            V20            V21  \\\n",
       "count  203588.000000  203588.000000  ...  203588.000000  203588.000000   \n",
       "mean        0.008658      -0.009599  ...       0.018098      -0.013531   \n",
       "std         1.133569       1.093279  ...       0.754828       0.737302   \n",
       "min       -13.434066     -24.588262  ...     -25.222345     -34.830382   \n",
       "25%        -0.662060      -0.520262  ...      -0.195863      -0.226757   \n",
       "50%        -0.072437      -0.099266  ...      -0.045317      -0.041537   \n",
       "75%         0.624023       0.443775  ...       0.149076       0.153564   \n",
       "max        15.594995      23.745136  ...      39.420904      27.202839   \n",
       "\n",
       "                 V22            V23            V24            V25  \\\n",
       "count  203588.000000  203588.000000  203588.000000  203588.000000   \n",
       "mean       -0.043495      -0.014629       0.003749       0.057627   \n",
       "std         0.693905       0.614535       0.603867       0.494384   \n",
       "min       -10.933144     -44.807735      -2.836627     -10.295397   \n",
       "25%        -0.536808      -0.168510      -0.343145      -0.245531   \n",
       "50%        -0.031153      -0.028095       0.051784       0.099402   \n",
       "75%         0.432131       0.116563       0.422644       0.383219   \n",
       "max        10.503090      19.002942       4.022866       7.519589   \n",
       "\n",
       "                 V26            V27            V28         amount  \n",
       "count  203588.000000  203588.000000  203588.000000  203588.000000  \n",
       "mean        0.005722       0.001393       0.001819      89.739175  \n",
       "std         0.488131       0.395266       0.318081     248.499234  \n",
       "min        -2.604551     -22.565679     -11.710896       0.000000  \n",
       "25%        -0.331229      -0.067743      -0.042899       5.990000  \n",
       "50%        -0.060953       0.005517       0.018075      23.000000  \n",
       "75%         0.260759       0.089114       0.078104      79.282500  \n",
       "max         3.517346      12.152401      33.847808   19656.530000  \n",
       "\n",
       "[8 rows x 29 columns]"
      ]
     },
     "execution_count": 6,
     "metadata": {},
     "output_type": "execute_result"
    }
   ],
   "source": [
    "X.describe()"
   ]
  },
  {
   "cell_type": "code",
   "execution_count": 7,
   "id": "e864e716",
   "metadata": {},
   "outputs": [],
   "source": [
    "from sklearn.model_selection import train_test_split\n",
    "\n",
    "X_train, X_test, y_train, y_test = train_test_split(X, y, test_size=0.20, random_state=42, stratify=y)"
   ]
  },
  {
   "cell_type": "code",
   "execution_count": 8,
   "id": "b1391244",
   "metadata": {},
   "outputs": [
    {
     "data": {
      "text/plain": [
       "DecisionTreeClassifier()"
      ]
     },
     "execution_count": 8,
     "metadata": {},
     "output_type": "execute_result"
    }
   ],
   "source": [
    "from sklearn.tree import DecisionTreeClassifier\n",
    "\n",
    "model = DecisionTreeClassifier()\n",
    "\n",
    "model.fit(X_train, y_train)"
   ]
  },
  {
   "cell_type": "code",
   "execution_count": 9,
   "id": "7249195e",
   "metadata": {},
   "outputs": [],
   "source": [
    "y_pred = model.predict(X_test)"
   ]
  },
  {
   "cell_type": "code",
   "execution_count": 10,
   "id": "29459f0f",
   "metadata": {},
   "outputs": [
    {
     "name": "stdout",
     "output_type": "stream",
     "text": [
      "              precision    recall  f1-score   support\n",
      "\n",
      "           0       1.00      1.00      1.00     40640\n",
      "           1       0.81      0.82      0.82        78\n",
      "\n",
      "    accuracy                           1.00     40718\n",
      "   macro avg       0.90      0.91      0.91     40718\n",
      "weighted avg       1.00      1.00      1.00     40718\n",
      "\n"
     ]
    }
   ],
   "source": [
    "from sklearn.metrics import classification_report\n",
    "\n",
    "print(classification_report(y_test, y_pred))"
   ]
  },
  {
   "cell_type": "code",
   "execution_count": 1,
   "id": "61ba4c95",
   "metadata": {},
   "outputs": [],
   "source": [
    "import pickle"
   ]
  },
  {
   "cell_type": "code",
   "execution_count": 19,
   "id": "746131cf",
   "metadata": {},
   "outputs": [],
   "source": [
    "with open('model.pkl', 'wb') as f:\n",
    "    pickle.dump(model, f)"
   ]
  },
  {
   "cell_type": "code",
   "execution_count": 28,
   "id": "ba8e971d",
   "metadata": {},
   "outputs": [],
   "source": [
    "df.dropna(inplace=True)"
   ]
  },
  {
   "cell_type": "code",
   "execution_count": 29,
   "id": "19102d48",
   "metadata": {},
   "outputs": [
    {
     "data": {
      "text/html": [
       "<div>\n",
       "<style scoped>\n",
       "    .dataframe tbody tr th:only-of-type {\n",
       "        vertical-align: middle;\n",
       "    }\n",
       "\n",
       "    .dataframe tbody tr th {\n",
       "        vertical-align: top;\n",
       "    }\n",
       "\n",
       "    .dataframe thead th {\n",
       "        text-align: right;\n",
       "    }\n",
       "</style>\n",
       "<table border=\"1\" class=\"dataframe\">\n",
       "  <thead>\n",
       "    <tr style=\"text-align: right;\">\n",
       "      <th></th>\n",
       "      <th>v1</th>\n",
       "      <th>v2</th>\n",
       "      <th>v3</th>\n",
       "      <th>v4</th>\n",
       "      <th>v5</th>\n",
       "      <th>v6</th>\n",
       "      <th>v7</th>\n",
       "      <th>v8</th>\n",
       "      <th>v9</th>\n",
       "      <th>v10</th>\n",
       "      <th>...</th>\n",
       "      <th>v21</th>\n",
       "      <th>v22</th>\n",
       "      <th>v23</th>\n",
       "      <th>v24</th>\n",
       "      <th>v25</th>\n",
       "      <th>v26</th>\n",
       "      <th>v27</th>\n",
       "      <th>v28</th>\n",
       "      <th>amount</th>\n",
       "      <th>class</th>\n",
       "    </tr>\n",
       "  </thead>\n",
       "  <tbody>\n",
       "    <tr>\n",
       "      <th>0</th>\n",
       "      <td>-1.359807</td>\n",
       "      <td>-0.072781</td>\n",
       "      <td>2.536347</td>\n",
       "      <td>1.378155</td>\n",
       "      <td>-0.338321</td>\n",
       "      <td>0.462388</td>\n",
       "      <td>0.239599</td>\n",
       "      <td>0.098698</td>\n",
       "      <td>0.363787</td>\n",
       "      <td>0.090794</td>\n",
       "      <td>...</td>\n",
       "      <td>-0.018307</td>\n",
       "      <td>0.277838</td>\n",
       "      <td>-0.110474</td>\n",
       "      <td>0.066928</td>\n",
       "      <td>0.128539</td>\n",
       "      <td>-0.189115</td>\n",
       "      <td>0.133558</td>\n",
       "      <td>-0.021053</td>\n",
       "      <td>149.62</td>\n",
       "      <td>0</td>\n",
       "    </tr>\n",
       "    <tr>\n",
       "      <th>1</th>\n",
       "      <td>1.191857</td>\n",
       "      <td>0.266151</td>\n",
       "      <td>0.166480</td>\n",
       "      <td>0.448154</td>\n",
       "      <td>0.060018</td>\n",
       "      <td>-0.082361</td>\n",
       "      <td>-0.078803</td>\n",
       "      <td>0.085102</td>\n",
       "      <td>-0.255425</td>\n",
       "      <td>-0.166974</td>\n",
       "      <td>...</td>\n",
       "      <td>-0.225775</td>\n",
       "      <td>-0.638672</td>\n",
       "      <td>0.101288</td>\n",
       "      <td>-0.339846</td>\n",
       "      <td>0.167170</td>\n",
       "      <td>0.125895</td>\n",
       "      <td>-0.008983</td>\n",
       "      <td>0.014724</td>\n",
       "      <td>2.69</td>\n",
       "      <td>0</td>\n",
       "    </tr>\n",
       "  </tbody>\n",
       "</table>\n",
       "<p>2 rows × 30 columns</p>\n",
       "</div>"
      ],
      "text/plain": [
       "         v1        v2        v3        v4        v5        v6        v7  \\\n",
       "0 -1.359807 -0.072781  2.536347  1.378155 -0.338321  0.462388  0.239599   \n",
       "1  1.191857  0.266151  0.166480  0.448154  0.060018 -0.082361 -0.078803   \n",
       "\n",
       "         v8        v9       v10  ...       v21       v22       v23       v24  \\\n",
       "0  0.098698  0.363787  0.090794  ... -0.018307  0.277838 -0.110474  0.066928   \n",
       "1  0.085102 -0.255425 -0.166974  ... -0.225775 -0.638672  0.101288 -0.339846   \n",
       "\n",
       "        v25       v26       v27       v28  amount  class  \n",
       "0  0.128539 -0.189115  0.133558 -0.021053  149.62      0  \n",
       "1  0.167170  0.125895 -0.008983  0.014724    2.69      0  \n",
       "\n",
       "[2 rows x 30 columns]"
      ]
     },
     "execution_count": 29,
     "metadata": {},
     "output_type": "execute_result"
    }
   ],
   "source": [
    "df.head(2)"
   ]
  },
  {
   "cell_type": "code",
   "execution_count": 2,
   "id": "9c0511aa",
   "metadata": {},
   "outputs": [],
   "source": [
    "with open('model.pkl', 'rb') as f:\n",
    "    model = pickle.load(f)"
   ]
  },
  {
   "cell_type": "code",
   "execution_count": 10,
   "id": "cd60fa94",
   "metadata": {},
   "outputs": [
    {
     "data": {
      "text/plain": [
       "array([0, 0, 0, ..., 0, 0, 0], dtype=int64)"
      ]
     },
     "execution_count": 10,
     "metadata": {},
     "output_type": "execute_result"
    }
   ],
   "source": [
    "model.predict(X)"
   ]
  },
  {
   "cell_type": "code",
   "execution_count": 11,
   "id": "f8cdc9de",
   "metadata": {},
   "outputs": [],
   "source": [
    "import sklearn"
   ]
  },
  {
   "cell_type": "code",
   "execution_count": 12,
   "id": "d106e81c",
   "metadata": {},
   "outputs": [
    {
     "data": {
      "text/plain": [
       "'0.24.2'"
      ]
     },
     "execution_count": 12,
     "metadata": {},
     "output_type": "execute_result"
    }
   ],
   "source": [
    "sklearn.__version__"
   ]
  },
  {
   "cell_type": "code",
   "execution_count": 11,
   "id": "be0c70c8",
   "metadata": {},
   "outputs": [
    {
     "data": {
      "text/plain": [
       "['model.joblib']"
      ]
     },
     "execution_count": 11,
     "metadata": {},
     "output_type": "execute_result"
    }
   ],
   "source": [
    "import joblib\n",
    "\n",
    "joblib.dump(model, 'model.joblib')"
   ]
  },
  {
   "cell_type": "code",
   "execution_count": 12,
   "id": "5a48a7cd",
   "metadata": {},
   "outputs": [],
   "source": [
    "m = joblib.load('model.joblib')"
   ]
  },
  {
   "cell_type": "code",
   "execution_count": 13,
   "id": "29556f10",
   "metadata": {},
   "outputs": [
    {
     "data": {
      "text/plain": [
       "array([0, 0, 0, ..., 0, 0, 0], dtype=int64)"
      ]
     },
     "execution_count": 13,
     "metadata": {},
     "output_type": "execute_result"
    }
   ],
   "source": [
    "m.predict(X)"
   ]
  },
  {
   "cell_type": "code",
   "execution_count": null,
   "id": "10b580c4",
   "metadata": {},
   "outputs": [],
   "source": []
  }
 ],
 "metadata": {
  "kernelspec": {
   "display_name": "Python 3 (ipykernel)",
   "language": "python",
   "name": "python3"
  },
  "language_info": {
   "codemirror_mode": {
    "name": "ipython",
    "version": 3
   },
   "file_extension": ".py",
   "mimetype": "text/x-python",
   "name": "python",
   "nbconvert_exporter": "python",
   "pygments_lexer": "ipython3",
   "version": "3.9.7"
  }
 },
 "nbformat": 4,
 "nbformat_minor": 5
}
