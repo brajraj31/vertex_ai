{
 "cells": [
  {
   "cell_type": "code",
   "execution_count": 1,
   "id": "82dcedab-17f6-46bd-85f8-52f6b0eca33f",
   "metadata": {},
   "outputs": [],
   "source": [
    "import os\n",
    "\n",
    "# The Vertex AI Workbench Notebook product has specific requirements\n",
    "IS_WORKBENCH_NOTEBOOK = os.getenv(\"DL_ANACONDA_HOME\") and not os.getenv(\"VIRTUAL_ENV\")\n",
    "IS_USER_MANAGED_WORKBENCH_NOTEBOOK = os.path.exists(\n",
    "    \"/opt/deeplearning/metadata/env_version\"\n",
    ")\n",
    "\n",
    "# Vertex AI Notebook requires dependencies to be installed with '--user'\n",
    "USER_FLAG = \"\"\n",
    "if IS_WORKBENCH_NOTEBOOK:\n",
    "    USER_FLAG = \"--user\"\n",
    "\n",
    "! pip3 install --upgrade google-cloud-aiplatform $USER_FLAG -q"
   ]
  },
  {
   "cell_type": "code",
   "execution_count": null,
   "id": "fd1a123f-9798-407e-b576-90e7cddaf3e0",
   "metadata": {},
   "outputs": [],
   "source": [
    "# Automatically restart kernel after installs\n",
    "import os\n",
    "\n",
    "if not os.getenv(\"IS_TESTING\"):\n",
    "    # Automatically restart kernel after installs\n",
    "    import IPython\n",
    "\n",
    "    app = IPython.Application.instance()\n",
    "    app.kernel.do_shutdown(True)"
   ]
  },
  {
   "cell_type": "code",
   "execution_count": 82,
   "id": "7652a6b9-09eb-4d81-b2bd-1c4c56a59bf5",
   "metadata": {},
   "outputs": [
    {
     "name": "stdout",
     "output_type": "stream",
     "text": [
      "Project ID:  qwiklabs-gcp-01-df00ef1cf655\n"
     ]
    }
   ],
   "source": [
    "import os\n",
    "\n",
    "PROJECT_ID = \"\"\n",
    "\n",
    "# Get your Google Cloud project ID from gcloud\n",
    "if not os.getenv(\"IS_TESTING\"):\n",
    "    shell_output = !gcloud config list --format 'value(core.project)' 2>/dev/null\n",
    "    PROJECT_ID = shell_output[0]\n",
    "    print(\"Project ID: \", PROJECT_ID)"
   ]
  },
  {
   "cell_type": "code",
   "execution_count": 83,
   "id": "df13356a-9ac1-432c-a57a-ed1c0056d07e",
   "metadata": {},
   "outputs": [],
   "source": [
    "REGION = \"[your-region]\"  # @param {type:\"string\"}\n",
    "if REGION == \"[your-region]\":\n",
    "    REGION = \"us-central1\""
   ]
  },
  {
   "cell_type": "code",
   "execution_count": 9,
   "id": "2fcbf294-a849-4bc3-8ff1-3d04b3e94412",
   "metadata": {},
   "outputs": [],
   "source": [
    "#!pip install google_cloud_pipeline_components"
   ]
  },
  {
   "cell_type": "code",
   "execution_count": 5,
   "id": "5f1e6724-8666-42a7-968d-731ac4390e2f",
   "metadata": {},
   "outputs": [],
   "source": [
    "dataset_path = 'gs://cloud-ai-platform-60f6fd86-0e8f-40ce-bf1b-6c73847561e2/creditcard.csv'"
   ]
  },
  {
   "cell_type": "code",
   "execution_count": 74,
   "id": "8594791c-2176-4455-9c6d-54fdc22c4685",
   "metadata": {},
   "outputs": [],
   "source": [
    "from google_cloud_pipeline_components import aiplatform as gcc_aip\n",
    "from kfp.v2 import dsl\n",
    "from kfp.v2 import compiler\n",
    "from kfp.components import OutputPath,InputPath\n",
    "from kfp.v2.dsl import component\n",
    "from kfp.v2.dsl import (\n",
    "    Output,\n",
    "    Input,\n",
    "    Artifact,\n",
    "    Model,\n",
    ")"
   ]
  },
  {
   "cell_type": "code",
   "execution_count": 27,
   "id": "d6cb4cd1-b032-47af-95ab-59911fe961f6",
   "metadata": {},
   "outputs": [],
   "source": [
    "BUCKET_NAME = \"gs://vaibucket\"\n",
    "PIPELINE_ROOT = \"{}/pipeline_root\".format(BUCKET_NAME)"
   ]
  },
  {
   "cell_type": "code",
   "execution_count": 28,
   "id": "f59bfcb4-8a84-42d7-be22-fe945bd4d0e4",
   "metadata": {},
   "outputs": [
    {
     "data": {
      "text/plain": [
       "'gs://vaibucket/pipeline_root'"
      ]
     },
     "execution_count": 28,
     "metadata": {},
     "output_type": "execute_result"
    }
   ],
   "source": [
    "PIPELINE_ROOT"
   ]
  },
  {
   "cell_type": "code",
   "execution_count": 118,
   "id": "09f8856d-1120-47b7-8827-02ee476ab370",
   "metadata": {},
   "outputs": [],
   "source": [
    "#define all components here\n",
    "\n",
    "@component\n",
    "def get_input_data() -> str:\n",
    "    # getting data from API, save to Cloud Storage\n",
    "    # return GS URI\n",
    "    gcs_batch_input_path = 'gs://cloud-ai-platform-60f6fd86-0e8f-40ce-bf1b-6c73847561e2/creditcard.csv'\n",
    "    return gcs_batch_input_path\n",
    "\n",
    "\n",
    "\n",
    "@component(\n",
    "    base_image=\"python:3.9\",\n",
    "    packages_to_install=['pandas']\n",
    ")\n",
    "def feature_engineering(inputpath:str) -> str:\n",
    "    '''take input file and perform feature engineering'''\n",
    "    updatedinputpath = inputpath\n",
    "    return updatedinputpath\n",
    "\n",
    "\n",
    "\n",
    "@component(\n",
    "    base_image=\"python:3.9\",\n",
    "    packages_to_install=['google-cloud-aiplatform==1.8.0']\n",
    ")\n",
    "def batch_prediction(inputgcsuri:str, outputbquri:str):\n",
    "    import google.cloud.aiplatform as aip\n",
    "\n",
    "    model_id = '75325342595678208'\n",
    "    model = aip.Model(model_name=model_id, project='qwiklabs-gcp-01-df00ef1cf655', location='us-central1')\n",
    "    model.batch_predict(\n",
    "        job_display_name=\"prediction-123\",\n",
    "        gcs_source=inputgcsuri,\n",
    "        instances_format=\"csv\",\n",
    "        bigquery_destination_prefix=outputbquri\n",
    "    )\n",
    "    \n"
   ]
  },
  {
   "cell_type": "code",
   "execution_count": 121,
   "id": "cff6d5f0-7e2f-4ba9-a67c-c7f5bbe38cad",
   "metadata": {},
   "outputs": [],
   "source": [
    "@dsl.pipeline(\n",
    "    name=\"my-pipeline\",\n",
    "    pipeline_root=PIPELINE_ROOT,\n",
    ")\n",
    "def pipeline(\n",
    "        project_id: str = \"qwiklabs-gcp-01-df00ef1cf655\" ,\n",
    "        region: str = 'us-central1',\n",
    "        bucket: str = \"gs://vaibucket\",\n",
    "        big_query_op: str = \"bq://qwiklabs-gcp-01-df00ef1cf655.credit\"\n",
    "):\n",
    "    import datetime\n",
    "    ts = datetime.datetime.now().strftime(\"%Y%m%d-%H%M%S\")\n",
    "    \n",
    "    batch_input_data_op = get_input_data()  # this loads input data to GCS path\n",
    "    feature_input = feature_engineering(batch_input_data_op.output)\n",
    "    batch_prediction(feature_input.output, big_query_op)\n",
    "\n",
    "    \n",
    "\n"
   ]
  },
  {
   "cell_type": "code",
   "execution_count": 122,
   "id": "b2bf0f6f-1434-443a-8fac-64f232c2c459",
   "metadata": {},
   "outputs": [],
   "source": [
    "pipeline_export_filepath = 'test-pipeline.json'\n",
    "compiler.Compiler().compile(pipeline_func=pipeline,\n",
    "                                package_path=pipeline_export_filepath)"
   ]
  },
  {
   "cell_type": "code",
   "execution_count": 123,
   "id": "d37db1ad-84d4-4360-896d-00d5f02a3be9",
   "metadata": {},
   "outputs": [],
   "source": [
    "#Preparining the pipeline to submit to VertexAI\n",
    "import google.cloud.aiplatform as aip\n",
    "\n",
    "job = aip.PipelineJob(\n",
    "        display_name=\"scoring_pipeline_3\",\n",
    "        template_path=pipeline_export_filepath,\n",
    "        pipeline_root=PIPELINE_ROOT,\n",
    "        enable_caching = False\n",
    "    )\n"
   ]
  },
  {
   "cell_type": "code",
   "execution_count": 124,
   "id": "95c17e17-d136-4fb7-a207-44714a10c8b0",
   "metadata": {},
   "outputs": [
    {
     "name": "stdout",
     "output_type": "stream",
     "text": [
      "Creating PipelineJob\n",
      "PipelineJob created. Resource name: projects/367561912346/locations/us-central1/pipelineJobs/my-pipeline-20220926144613\n",
      "To use this PipelineJob in another session:\n",
      "pipeline_job = aiplatform.PipelineJob.get('projects/367561912346/locations/us-central1/pipelineJobs/my-pipeline-20220926144613')\n",
      "View Pipeline Job:\n",
      "https://console.cloud.google.com/vertex-ai/locations/us-central1/pipelines/runs/my-pipeline-20220926144613?project=367561912346\n",
      "PipelineJob projects/367561912346/locations/us-central1/pipelineJobs/my-pipeline-20220926144613 current state:\n",
      "PipelineState.PIPELINE_STATE_RUNNING\n",
      "PipelineJob projects/367561912346/locations/us-central1/pipelineJobs/my-pipeline-20220926144613 current state:\n",
      "PipelineState.PIPELINE_STATE_RUNNING\n",
      "PipelineJob projects/367561912346/locations/us-central1/pipelineJobs/my-pipeline-20220926144613 current state:\n",
      "PipelineState.PIPELINE_STATE_RUNNING\n",
      "PipelineJob projects/367561912346/locations/us-central1/pipelineJobs/my-pipeline-20220926144613 current state:\n",
      "PipelineState.PIPELINE_STATE_RUNNING\n",
      "PipelineJob projects/367561912346/locations/us-central1/pipelineJobs/my-pipeline-20220926144613 current state:\n",
      "PipelineState.PIPELINE_STATE_RUNNING\n",
      "PipelineJob projects/367561912346/locations/us-central1/pipelineJobs/my-pipeline-20220926144613 current state:\n",
      "PipelineState.PIPELINE_STATE_RUNNING\n",
      "PipelineJob projects/367561912346/locations/us-central1/pipelineJobs/my-pipeline-20220926144613 current state:\n",
      "PipelineState.PIPELINE_STATE_RUNNING\n",
      "PipelineJob projects/367561912346/locations/us-central1/pipelineJobs/my-pipeline-20220926144613 current state:\n",
      "PipelineState.PIPELINE_STATE_RUNNING\n",
      "PipelineJob projects/367561912346/locations/us-central1/pipelineJobs/my-pipeline-20220926144613 current state:\n",
      "PipelineState.PIPELINE_STATE_RUNNING\n",
      "PipelineJob projects/367561912346/locations/us-central1/pipelineJobs/my-pipeline-20220926144613 current state:\n",
      "PipelineState.PIPELINE_STATE_RUNNING\n",
      "PipelineJob projects/367561912346/locations/us-central1/pipelineJobs/my-pipeline-20220926144613 current state:\n",
      "PipelineState.PIPELINE_STATE_RUNNING\n",
      "PipelineJob run completed. Resource name: projects/367561912346/locations/us-central1/pipelineJobs/my-pipeline-20220926144613\n"
     ]
    }
   ],
   "source": [
    "#Submitting the Pipeline to VertexAI\n",
    "job.run()"
   ]
  },
  {
   "cell_type": "code",
   "execution_count": null,
   "id": "c16dad76-a3fa-4efd-a7ed-5849034b55c6",
   "metadata": {},
   "outputs": [],
   "source": []
  },
  {
   "cell_type": "code",
   "execution_count": null,
   "id": "b000ab2b-2b55-4c9a-8aab-17f265f73a31",
   "metadata": {},
   "outputs": [],
   "source": []
  },
  {
   "cell_type": "code",
   "execution_count": null,
   "id": "610aecc1-22ef-4b9d-a4bb-7fe6abfe3bb7",
   "metadata": {},
   "outputs": [],
   "source": []
  },
  {
   "cell_type": "code",
   "execution_count": 123,
   "id": "d16abdf5-394f-468d-9e97-aaa20676aea9",
   "metadata": {},
   "outputs": [],
   "source": [
    "import google.cloud.aiplatform as aip\n",
    "\n",
    "model_id = '75325342595678208'\n",
    "model = aip.Model(model_name=model_id, project=PROJECT_ID, location='us-central1')"
   ]
  },
  {
   "cell_type": "code",
   "execution_count": 17,
   "id": "9caac1cd-f50c-49c3-8662-fc0ec60f9c32",
   "metadata": {},
   "outputs": [],
   "source": [
    "#batch_input_data_op = get_input_data()"
   ]
  },
  {
   "cell_type": "code",
   "execution_count": null,
   "id": "a0c4c736-27ca-4c0c-99b1-20e7756419ce",
   "metadata": {},
   "outputs": [],
   "source": []
  },
  {
   "cell_type": "code",
   "execution_count": 124,
   "id": "2c935ad7-e334-444e-b897-173b1f539824",
   "metadata": {},
   "outputs": [
    {
     "name": "stdout",
     "output_type": "stream",
     "text": [
      "Creating BatchPredictionJob\n",
      "BatchPredictionJob created. Resource name: projects/367561912346/locations/us-central1/batchPredictionJobs/6921052687530196992\n",
      "To use this BatchPredictionJob in another session:\n",
      "bpj = aiplatform.BatchPredictionJob('projects/367561912346/locations/us-central1/batchPredictionJobs/6921052687530196992')\n",
      "View Batch Prediction Job:\n",
      "https://console.cloud.google.com/ai/platform/locations/us-central1/batch-predictions/6921052687530196992?project=367561912346\n",
      "BatchPredictionJob projects/367561912346/locations/us-central1/batchPredictionJobs/6921052687530196992 current state:\n",
      "JobState.JOB_STATE_RUNNING\n",
      "BatchPredictionJob projects/367561912346/locations/us-central1/batchPredictionJobs/6921052687530196992 current state:\n",
      "JobState.JOB_STATE_RUNNING\n",
      "BatchPredictionJob projects/367561912346/locations/us-central1/batchPredictionJobs/6921052687530196992 current state:\n",
      "JobState.JOB_STATE_RUNNING\n",
      "BatchPredictionJob projects/367561912346/locations/us-central1/batchPredictionJobs/6921052687530196992 current state:\n",
      "JobState.JOB_STATE_RUNNING\n",
      "BatchPredictionJob projects/367561912346/locations/us-central1/batchPredictionJobs/6921052687530196992 current state:\n",
      "JobState.JOB_STATE_RUNNING\n",
      "BatchPredictionJob projects/367561912346/locations/us-central1/batchPredictionJobs/6921052687530196992 current state:\n",
      "JobState.JOB_STATE_RUNNING\n",
      "BatchPredictionJob projects/367561912346/locations/us-central1/batchPredictionJobs/6921052687530196992 current state:\n",
      "JobState.JOB_STATE_RUNNING\n",
      "BatchPredictionJob projects/367561912346/locations/us-central1/batchPredictionJobs/6921052687530196992 current state:\n",
      "JobState.JOB_STATE_CANCELLED\n"
     ]
    },
    {
     "ename": "RuntimeError",
     "evalue": "Job failed with:\ncode: 1\nmessage: \"CANCELED\"\n",
     "output_type": "error",
     "traceback": [
      "\u001b[0;31m---------------------------------------------------------------------------\u001b[0m",
      "\u001b[0;31mRuntimeError\u001b[0m                              Traceback (most recent call last)",
      "\u001b[0;32m/tmp/ipykernel_31734/2628587695.py\u001b[0m in \u001b[0;36m<module>\u001b[0;34m\u001b[0m\n\u001b[1;32m      5\u001b[0m         \u001b[0mbigquery_destination_prefix\u001b[0m\u001b[0;34m=\u001b[0m\u001b[0;34m\"bq://qwiklabs-gcp-01-df00ef1cf655.credit\"\u001b[0m\u001b[0;34m,\u001b[0m\u001b[0;34m\u001b[0m\u001b[0;34m\u001b[0m\u001b[0m\n\u001b[1;32m      6\u001b[0m         \u001b[0mmachine_type\u001b[0m \u001b[0;34m=\u001b[0m \u001b[0;34m\"n1-standard-2\"\u001b[0m\u001b[0;34m,\u001b[0m\u001b[0;34m\u001b[0m\u001b[0;34m\u001b[0m\u001b[0m\n\u001b[0;32m----> 7\u001b[0;31m         \u001b[0msync\u001b[0m \u001b[0;34m=\u001b[0m \u001b[0;32mTrue\u001b[0m\u001b[0;34m\u001b[0m\u001b[0;34m\u001b[0m\u001b[0m\n\u001b[0m\u001b[1;32m      8\u001b[0m     )\n",
      "\u001b[0;32m/opt/conda/lib/python3.7/site-packages/google/cloud/aiplatform/models.py\u001b[0m in \u001b[0;36mbatch_predict\u001b[0;34m(self, job_display_name, gcs_source, bigquery_source, instances_format, gcs_destination_prefix, bigquery_destination_prefix, predictions_format, model_parameters, machine_type, accelerator_type, accelerator_count, starting_replica_count, max_replica_count, generate_explanation, explanation_metadata, explanation_parameters, labels, credentials, encryption_spec_key_name, sync, create_request_timeout, batch_size)\u001b[0m\n\u001b[1;32m   3716\u001b[0m             \u001b[0mencryption_spec_key_name\u001b[0m\u001b[0;34m=\u001b[0m\u001b[0mencryption_spec_key_name\u001b[0m\u001b[0;34m,\u001b[0m\u001b[0;34m\u001b[0m\u001b[0;34m\u001b[0m\u001b[0m\n\u001b[1;32m   3717\u001b[0m             \u001b[0msync\u001b[0m\u001b[0;34m=\u001b[0m\u001b[0msync\u001b[0m\u001b[0;34m,\u001b[0m\u001b[0;34m\u001b[0m\u001b[0;34m\u001b[0m\u001b[0m\n\u001b[0;32m-> 3718\u001b[0;31m             \u001b[0mcreate_request_timeout\u001b[0m\u001b[0;34m=\u001b[0m\u001b[0mcreate_request_timeout\u001b[0m\u001b[0;34m,\u001b[0m\u001b[0;34m\u001b[0m\u001b[0;34m\u001b[0m\u001b[0m\n\u001b[0m\u001b[1;32m   3719\u001b[0m         )\n\u001b[1;32m   3720\u001b[0m \u001b[0;34m\u001b[0m\u001b[0m\n",
      "\u001b[0;32m/opt/conda/lib/python3.7/site-packages/google/cloud/aiplatform/jobs.py\u001b[0m in \u001b[0;36mcreate\u001b[0;34m(cls, job_display_name, model_name, instances_format, predictions_format, gcs_source, bigquery_source, gcs_destination_prefix, bigquery_destination_prefix, model_parameters, machine_type, accelerator_type, accelerator_count, starting_replica_count, max_replica_count, generate_explanation, explanation_metadata, explanation_parameters, labels, project, location, credentials, encryption_spec_key_name, sync, create_request_timeout, batch_size, model_monitoring_objective_config, model_monitoring_alert_config, analysis_instance_schema_uri)\u001b[0m\n\u001b[1;32m    758\u001b[0m             \u001b[0mgenerate_explanation\u001b[0m\u001b[0;34m=\u001b[0m\u001b[0mgenerate_explanation\u001b[0m\u001b[0;34m,\u001b[0m\u001b[0;34m\u001b[0m\u001b[0;34m\u001b[0m\u001b[0m\n\u001b[1;32m    759\u001b[0m             \u001b[0msync\u001b[0m\u001b[0;34m=\u001b[0m\u001b[0msync\u001b[0m\u001b[0;34m,\u001b[0m\u001b[0;34m\u001b[0m\u001b[0;34m\u001b[0m\u001b[0m\n\u001b[0;32m--> 760\u001b[0;31m             \u001b[0mcreate_request_timeout\u001b[0m\u001b[0;34m=\u001b[0m\u001b[0mcreate_request_timeout\u001b[0m\u001b[0;34m,\u001b[0m\u001b[0;34m\u001b[0m\u001b[0;34m\u001b[0m\u001b[0m\n\u001b[0m\u001b[1;32m    761\u001b[0m         )\n\u001b[1;32m    762\u001b[0m         \u001b[0;31m# TODO: b/242108750\u001b[0m\u001b[0;34m\u001b[0m\u001b[0;34m\u001b[0m\u001b[0;34m\u001b[0m\u001b[0m\n",
      "\u001b[0;32m/opt/conda/lib/python3.7/site-packages/google/cloud/aiplatform/base.py\u001b[0m in \u001b[0;36mwrapper\u001b[0;34m(*args, **kwargs)\u001b[0m\n\u001b[1;32m    805\u001b[0m                 \u001b[0;32mif\u001b[0m \u001b[0mself\u001b[0m\u001b[0;34m:\u001b[0m\u001b[0;34m\u001b[0m\u001b[0;34m\u001b[0m\u001b[0m\n\u001b[1;32m    806\u001b[0m                     \u001b[0mVertexAiResourceNounWithFutureManager\u001b[0m\u001b[0;34m.\u001b[0m\u001b[0mwait\u001b[0m\u001b[0;34m(\u001b[0m\u001b[0mself\u001b[0m\u001b[0;34m)\u001b[0m\u001b[0;34m\u001b[0m\u001b[0;34m\u001b[0m\u001b[0m\n\u001b[0;32m--> 807\u001b[0;31m                 \u001b[0;32mreturn\u001b[0m \u001b[0mmethod\u001b[0m\u001b[0;34m(\u001b[0m\u001b[0;34m*\u001b[0m\u001b[0margs\u001b[0m\u001b[0;34m,\u001b[0m \u001b[0;34m**\u001b[0m\u001b[0mkwargs\u001b[0m\u001b[0;34m)\u001b[0m\u001b[0;34m\u001b[0m\u001b[0;34m\u001b[0m\u001b[0m\n\u001b[0m\u001b[1;32m    808\u001b[0m \u001b[0;34m\u001b[0m\u001b[0m\n\u001b[1;32m    809\u001b[0m             \u001b[0;31m# callbacks to call within the Future (in same Thread)\u001b[0m\u001b[0;34m\u001b[0m\u001b[0;34m\u001b[0m\u001b[0;34m\u001b[0m\u001b[0m\n",
      "\u001b[0;32m/opt/conda/lib/python3.7/site-packages/google/cloud/aiplatform/jobs.py\u001b[0m in \u001b[0;36m_create\u001b[0;34m(cls, empty_batch_prediction_job, model_or_model_name, gca_batch_prediction_job, generate_explanation, sync, create_request_timeout)\u001b[0m\n\u001b[1;32m    838\u001b[0m         )\n\u001b[1;32m    839\u001b[0m \u001b[0;34m\u001b[0m\u001b[0m\n\u001b[0;32m--> 840\u001b[0;31m         \u001b[0mbatch_prediction_job\u001b[0m\u001b[0;34m.\u001b[0m\u001b[0m_block_until_complete\u001b[0m\u001b[0;34m(\u001b[0m\u001b[0;34m)\u001b[0m\u001b[0;34m\u001b[0m\u001b[0;34m\u001b[0m\u001b[0m\n\u001b[0m\u001b[1;32m    841\u001b[0m \u001b[0;34m\u001b[0m\u001b[0m\n\u001b[1;32m    842\u001b[0m         \u001b[0;32mreturn\u001b[0m \u001b[0mbatch_prediction_job\u001b[0m\u001b[0;34m\u001b[0m\u001b[0;34m\u001b[0m\u001b[0m\n",
      "\u001b[0;32m/opt/conda/lib/python3.7/site-packages/google/cloud/aiplatform/jobs.py\u001b[0m in \u001b[0;36m_block_until_complete\u001b[0;34m(self)\u001b[0m\n\u001b[1;32m    223\u001b[0m         \u001b[0;31m# JOB_STATE_FAILED or JOB_STATE_CANCELLED.\u001b[0m\u001b[0;34m\u001b[0m\u001b[0;34m\u001b[0m\u001b[0;34m\u001b[0m\u001b[0m\n\u001b[1;32m    224\u001b[0m         \u001b[0;32mif\u001b[0m \u001b[0mself\u001b[0m\u001b[0;34m.\u001b[0m\u001b[0m_gca_resource\u001b[0m\u001b[0;34m.\u001b[0m\u001b[0mstate\u001b[0m \u001b[0;32min\u001b[0m \u001b[0m_JOB_ERROR_STATES\u001b[0m\u001b[0;34m:\u001b[0m\u001b[0;34m\u001b[0m\u001b[0;34m\u001b[0m\u001b[0m\n\u001b[0;32m--> 225\u001b[0;31m             \u001b[0;32mraise\u001b[0m \u001b[0mRuntimeError\u001b[0m\u001b[0;34m(\u001b[0m\u001b[0;34m\"Job failed with:\\n%s\"\u001b[0m \u001b[0;34m%\u001b[0m \u001b[0mself\u001b[0m\u001b[0;34m.\u001b[0m\u001b[0m_gca_resource\u001b[0m\u001b[0;34m.\u001b[0m\u001b[0merror\u001b[0m\u001b[0;34m)\u001b[0m\u001b[0;34m\u001b[0m\u001b[0;34m\u001b[0m\u001b[0m\n\u001b[0m\u001b[1;32m    226\u001b[0m         \u001b[0;32melse\u001b[0m\u001b[0;34m:\u001b[0m\u001b[0;34m\u001b[0m\u001b[0;34m\u001b[0m\u001b[0m\n\u001b[1;32m    227\u001b[0m             \u001b[0m_LOGGER\u001b[0m\u001b[0;34m.\u001b[0m\u001b[0mlog_action_completed_against_resource\u001b[0m\u001b[0;34m(\u001b[0m\u001b[0;34m\"run\"\u001b[0m\u001b[0;34m,\u001b[0m \u001b[0;34m\"completed\"\u001b[0m\u001b[0;34m,\u001b[0m \u001b[0mself\u001b[0m\u001b[0;34m)\u001b[0m\u001b[0;34m\u001b[0m\u001b[0;34m\u001b[0m\u001b[0m\n",
      "\u001b[0;31mRuntimeError\u001b[0m: Job failed with:\ncode: 1\nmessage: \"CANCELED\"\n"
     ]
    }
   ],
   "source": [
    "response = model.batch_predict(\n",
    "        job_display_name=\"prediction-123\",\n",
    "        bigquery_source=\"bq://qwiklabs-gcp-01-df00ef1cf655.credit.credit_data\",\n",
    "        instances_format=\"bigquery\",\n",
    "        bigquery_destination_prefix=\"bq://qwiklabs-gcp-01-df00ef1cf655.credit\",\n",
    "        machine_type = \"n1-standard-2\",\n",
    "        sync = True\n",
    "    )\n"
   ]
  },
  {
   "cell_type": "code",
   "execution_count": 35,
   "id": "05618657-e0ed-4ab1-ad07-4032a11ff943",
   "metadata": {},
   "outputs": [
    {
     "data": {
      "text/plain": [
       "bigquery_output_dataset: \"bq://qwiklabs-gcp-01-df00ef1cf655.credit\"\n",
       "bigquery_output_table: \"predictions_2022_09_29T04_23_10_521Z_274\""
      ]
     },
     "execution_count": 35,
     "metadata": {},
     "output_type": "execute_result"
    }
   ],
   "source": [
    "response.output_info[\"bigquery_output_dataset\"]"
   ]
  },
  {
   "cell_type": "code",
   "execution_count": 115,
   "id": "9aef0017-1f98-4392-ad5a-b2d07d2b8533",
   "metadata": {},
   "outputs": [],
   "source": [
    "f = \"bq://qwiklabs-gcp-01-df00ef1cf655.credit\""
   ]
  },
  {
   "cell_type": "code",
   "execution_count": 118,
   "id": "cb8a1c70-4a9d-4d79-b67e-67b171806520",
   "metadata": {},
   "outputs": [
    {
     "data": {
      "text/plain": [
       "'qwiklabs-gcp-01-df00ef1cf655.credit'"
      ]
     },
     "execution_count": 118,
     "metadata": {},
     "output_type": "execute_result"
    }
   ],
   "source": [
    "str(f[5:])"
   ]
  },
  {
   "cell_type": "code",
   "execution_count": 107,
   "id": "f271dfee-7d94-41df-a85d-4ffcda34a842",
   "metadata": {},
   "outputs": [
    {
     "data": {
      "text/plain": [
       "'predictions_2022_09_29T04_23_10_521Z_274'"
      ]
     },
     "execution_count": 107,
     "metadata": {},
     "output_type": "execute_result"
    }
   ],
   "source": [
    "response.output_info.bigquery_output_table"
   ]
  },
  {
   "cell_type": "code",
   "execution_count": null,
   "id": "c765fe49-6da9-4670-8bc7-c0c14de23126",
   "metadata": {},
   "outputs": [],
   "source": [
    "qwiklabs-gcp-01-df00ef1cf655.credit.predictions_2022_09_26T06_44_33_719Z_504"
   ]
  },
  {
   "cell_type": "code",
   "execution_count": 37,
   "id": "03f27de6-e7fe-4bb2-b00a-ad3e80db7574",
   "metadata": {},
   "outputs": [],
   "source": [
    "from google_cloud_pipeline_components import aiplatform as gcc_aip"
   ]
  },
  {
   "cell_type": "code",
   "execution_count": null,
   "id": "1279e715-51fa-4035-a1b0-d700db6ab784",
   "metadata": {},
   "outputs": [],
   "source": [
    "model."
   ]
  },
  {
   "cell_type": "code",
   "execution_count": 41,
   "id": "deb7d0a9-0350-4769-9e76-14162366f510",
   "metadata": {},
   "outputs": [],
   "source": [
    "from google.cloud import bigquery"
   ]
  },
  {
   "cell_type": "code",
   "execution_count": 42,
   "id": "dd2c05b0-4196-4782-a886-dcec4e1f83e7",
   "metadata": {},
   "outputs": [],
   "source": [
    "client = bigquery.Client(location=\"us-central1\", project=PROJECT_ID)\n",
    "table_id = \"qwiklabs-gcp-01-df00ef1cf655.credit.credit_data\""
   ]
  },
  {
   "cell_type": "code",
   "execution_count": 125,
   "id": "15fc9fb9-3828-4e82-831d-695abbef098f",
   "metadata": {},
   "outputs": [],
   "source": [
    "#data = client.query(query= \"SELECT uid, class FROM qwiklabs-gcp-01-df00ef1cf655.credit.credit_data LIMIT 100\")\n",
    "data = client.query(query= \"SELECT * FROM qwiklabs-gcp-01-df00ef1cf655.credit.predictions_2022_09_26T06_44_33_719Z_504 limit 100\")\n"
   ]
  },
  {
   "cell_type": "code",
   "execution_count": 72,
   "id": "1f7e33eb-3465-404b-9a8b-50ee0da45e5a",
   "metadata": {},
   "outputs": [],
   "source": [
    "import json\n",
    "records = [dict(row) for row in data]\n",
    "json_obj = json.dumps(str(records))"
   ]
  },
  {
   "cell_type": "code",
   "execution_count": 74,
   "id": "ea0fcf58-4850-4229-b75f-699b86335d78",
   "metadata": {},
   "outputs": [
    {
     "ename": "ValueError",
     "evalue": "dictionary update sequence element #0 has length 1; 2 is required",
     "output_type": "error",
     "traceback": [
      "\u001b[0;31m---------------------------------------------------------------------------\u001b[0m",
      "\u001b[0;31mValueError\u001b[0m                                Traceback (most recent call last)",
      "\u001b[0;32m/tmp/ipykernel_31734/1518146801.py\u001b[0m in \u001b[0;36m<module>\u001b[0;34m\u001b[0m\n\u001b[0;32m----> 1\u001b[0;31m \u001b[0mdict\u001b[0m\u001b[0;34m(\u001b[0m\u001b[0mjson_obj\u001b[0m\u001b[0;34m)\u001b[0m\u001b[0;34m\u001b[0m\u001b[0;34m\u001b[0m\u001b[0m\n\u001b[0m",
      "\u001b[0;31mValueError\u001b[0m: dictionary update sequence element #0 has length 1; 2 is required"
     ]
    }
   ],
   "source": []
  },
  {
   "cell_type": "code",
   "execution_count": 126,
   "id": "f1549848-aa8e-4453-8754-17aa16ba9057",
   "metadata": {},
   "outputs": [],
   "source": [
    "t = data.to_dataframe()"
   ]
  },
  {
   "cell_type": "code",
   "execution_count": 127,
   "id": "8d7e0429-aa1e-4ff5-94b4-849b6bdf964e",
   "metadata": {},
   "outputs": [
    {
     "data": {
      "text/html": [
       "<div>\n",
       "<style scoped>\n",
       "    .dataframe tbody tr th:only-of-type {\n",
       "        vertical-align: middle;\n",
       "    }\n",
       "\n",
       "    .dataframe tbody tr th {\n",
       "        vertical-align: top;\n",
       "    }\n",
       "\n",
       "    .dataframe thead th {\n",
       "        text-align: right;\n",
       "    }\n",
       "</style>\n",
       "<table border=\"1\" class=\"dataframe\">\n",
       "  <thead>\n",
       "    <tr style=\"text-align: right;\">\n",
       "      <th></th>\n",
       "      <th>amount</th>\n",
       "      <th>class</th>\n",
       "      <th>predicted_class</th>\n",
       "      <th>uid</th>\n",
       "      <th>v1</th>\n",
       "      <th>v10</th>\n",
       "      <th>v11</th>\n",
       "      <th>v12</th>\n",
       "      <th>v13</th>\n",
       "      <th>v14</th>\n",
       "      <th>...</th>\n",
       "      <th>v26</th>\n",
       "      <th>v27</th>\n",
       "      <th>v28</th>\n",
       "      <th>v3</th>\n",
       "      <th>v4</th>\n",
       "      <th>v5</th>\n",
       "      <th>v6</th>\n",
       "      <th>v7</th>\n",
       "      <th>v8</th>\n",
       "      <th>v9</th>\n",
       "    </tr>\n",
       "  </thead>\n",
       "  <tbody>\n",
       "    <tr>\n",
       "      <th>0</th>\n",
       "      <td>0</td>\n",
       "      <td>0</td>\n",
       "      <td>{'classes': ['0', '1'], 'scores': [0.999757230...</td>\n",
       "      <td>A177669</td>\n",
       "      <td>-1.005771658</td>\n",
       "      <td>0.047577915</td>\n",
       "      <td>-0.861037283</td>\n",
       "      <td>-0.203845076</td>\n",
       "      <td>0.619057513</td>\n",
       "      <td>-0.247185755</td>\n",
       "      <td>...</td>\n",
       "      <td>2.470206274</td>\n",
       "      <td>-0.156485698</td>\n",
       "      <td>0.027599494</td>\n",
       "      <td>1.519595528</td>\n",
       "      <td>0.383493159</td>\n",
       "      <td>0.763643416</td>\n",
       "      <td>-0.120690716</td>\n",
       "      <td>0.80466248</td>\n",
       "      <td>-0.872072893</td>\n",
       "      <td>-1.700160777</td>\n",
       "    </tr>\n",
       "    <tr>\n",
       "      <th>1</th>\n",
       "      <td>0</td>\n",
       "      <td>0</td>\n",
       "      <td>{'classes': ['0', '1'], 'scores': [0.999792456...</td>\n",
       "      <td>A173907</td>\n",
       "      <td>2.179643887</td>\n",
       "      <td>0.300387691</td>\n",
       "      <td>-1.275377159</td>\n",
       "      <td>-0.598664868</td>\n",
       "      <td>-1.229645119</td>\n",
       "      <td>1.029418718</td>\n",
       "      <td>...</td>\n",
       "      <td>0.709802537</td>\n",
       "      <td>-0.135570405</td>\n",
       "      <td>-0.091907826</td>\n",
       "      <td>-2.652050663</td>\n",
       "      <td>0.355470952</td>\n",
       "      <td>1.002058838</td>\n",
       "      <td>-1.265588764</td>\n",
       "      <td>0.895277546</td>\n",
       "      <td>-0.508510292</td>\n",
       "      <td>0.016497432</td>\n",
       "    </tr>\n",
       "    <tr>\n",
       "      <th>2</th>\n",
       "      <td>0</td>\n",
       "      <td>0</td>\n",
       "      <td>{'classes': ['0', '1'], 'scores': [0.999568104...</td>\n",
       "      <td>A131262</td>\n",
       "      <td>-0.268992308</td>\n",
       "      <td>0.068239822</td>\n",
       "      <td>-1.594267805</td>\n",
       "      <td>0.202640185</td>\n",
       "      <td>1.105694241</td>\n",
       "      <td>-0.498228909</td>\n",
       "      <td>...</td>\n",
       "      <td>-0.171325885</td>\n",
       "      <td>0.042321875</td>\n",
       "      <td>0.025788406</td>\n",
       "      <td>1.694042213</td>\n",
       "      <td>1.88908876</td>\n",
       "      <td>0.595605415</td>\n",
       "      <td>0.40926808</td>\n",
       "      <td>0.629258239</td>\n",
       "      <td>0.069031047</td>\n",
       "      <td>-0.946909822</td>\n",
       "    </tr>\n",
       "    <tr>\n",
       "      <th>3</th>\n",
       "      <td>0</td>\n",
       "      <td>0</td>\n",
       "      <td>{'classes': ['0', '1'], 'scores': [0.999524950...</td>\n",
       "      <td>A103391</td>\n",
       "      <td>0.243426752</td>\n",
       "      <td>0.184182984</td>\n",
       "      <td>-0.371880355</td>\n",
       "      <td>0.55608226</td>\n",
       "      <td>0.491201813</td>\n",
       "      <td>0.301633834</td>\n",
       "      <td>...</td>\n",
       "      <td>0.839887561</td>\n",
       "      <td>0.198165317</td>\n",
       "      <td>0.233434354</td>\n",
       "      <td>0.715695084</td>\n",
       "      <td>1.231665609</td>\n",
       "      <td>-0.187426818</td>\n",
       "      <td>-0.461335095</td>\n",
       "      <td>-0.457976376</td>\n",
       "      <td>-1.836685661</td>\n",
       "      <td>-0.286415</td>\n",
       "    </tr>\n",
       "    <tr>\n",
       "      <th>4</th>\n",
       "      <td>0</td>\n",
       "      <td>0</td>\n",
       "      <td>{'classes': ['0', '1'], 'scores': [0.999669492...</td>\n",
       "      <td>A133537</td>\n",
       "      <td>-0.929699988</td>\n",
       "      <td>0.40138532</td>\n",
       "      <td>0.200009805</td>\n",
       "      <td>0.615586146</td>\n",
       "      <td>-0.217176607</td>\n",
       "      <td>-0.106266113</td>\n",
       "      <td>...</td>\n",
       "      <td>-0.634668702</td>\n",
       "      <td>0.062523387</td>\n",
       "      <td>0.343740508</td>\n",
       "      <td>1.549226878</td>\n",
       "      <td>1.693430329</td>\n",
       "      <td>1.038639374</td>\n",
       "      <td>-0.214544514</td>\n",
       "      <td>-0.032842794</td>\n",
       "      <td>0.248008535</td>\n",
       "      <td>-0.598264605</td>\n",
       "    </tr>\n",
       "    <tr>\n",
       "      <th>...</th>\n",
       "      <td>...</td>\n",
       "      <td>...</td>\n",
       "      <td>...</td>\n",
       "      <td>...</td>\n",
       "      <td>...</td>\n",
       "      <td>...</td>\n",
       "      <td>...</td>\n",
       "      <td>...</td>\n",
       "      <td>...</td>\n",
       "      <td>...</td>\n",
       "      <td>...</td>\n",
       "      <td>...</td>\n",
       "      <td>...</td>\n",
       "      <td>...</td>\n",
       "      <td>...</td>\n",
       "      <td>...</td>\n",
       "      <td>...</td>\n",
       "      <td>...</td>\n",
       "      <td>...</td>\n",
       "      <td>...</td>\n",
       "      <td>...</td>\n",
       "    </tr>\n",
       "    <tr>\n",
       "      <th>95</th>\n",
       "      <td>0</td>\n",
       "      <td>0</td>\n",
       "      <td>{'classes': ['0', '1'], 'scores': [0.999491930...</td>\n",
       "      <td>A8387</td>\n",
       "      <td>-0.319472963</td>\n",
       "      <td>0.513002902</td>\n",
       "      <td>1.997996025</td>\n",
       "      <td>-1.773975124</td>\n",
       "      <td>2.755055753</td>\n",
       "      <td>1.699638236</td>\n",
       "      <td>...</td>\n",
       "      <td>-0.229380397</td>\n",
       "      <td>0.159103894</td>\n",
       "      <td>0.176801885</td>\n",
       "      <td>1.92644332</td>\n",
       "      <td>2.907521904</td>\n",
       "      <td>0.668914523</td>\n",
       "      <td>0.241443829</td>\n",
       "      <td>0.126259374</td>\n",
       "      <td>0.054475708</td>\n",
       "      <td>-0.495370519</td>\n",
       "    </tr>\n",
       "    <tr>\n",
       "      <th>96</th>\n",
       "      <td>0</td>\n",
       "      <td>0</td>\n",
       "      <td>{'classes': ['0', '1'], 'scores': [0.998918592...</td>\n",
       "      <td>A191797</td>\n",
       "      <td>1.882226593</td>\n",
       "      <td>1.314816255</td>\n",
       "      <td>-1.823095547</td>\n",
       "      <td>-0.508250731</td>\n",
       "      <td>-1.138742965</td>\n",
       "      <td>-0.123171693</td>\n",
       "      <td>...</td>\n",
       "      <td>0.141150974</td>\n",
       "      <td>-0.005872978</td>\n",
       "      <td>-0.049902437</td>\n",
       "      <td>-0.165758336</td>\n",
       "      <td>4.056814331</td>\n",
       "      <td>-0.087563473</td>\n",
       "      <td>0.23657199</td>\n",
       "      <td>-0.255124921</td>\n",
       "      <td>0.096423964</td>\n",
       "      <td>-0.097107001</td>\n",
       "    </tr>\n",
       "    <tr>\n",
       "      <th>97</th>\n",
       "      <td>0</td>\n",
       "      <td>0</td>\n",
       "      <td>{'classes': ['0', '1'], 'scores': [0.999618649...</td>\n",
       "      <td>A161316</td>\n",
       "      <td>-2.956092749</td>\n",
       "      <td>1.39514984</td>\n",
       "      <td>-2.015018564</td>\n",
       "      <td>0.154281451</td>\n",
       "      <td>0.115434202</td>\n",
       "      <td>-0.344799675</td>\n",
       "      <td>...</td>\n",
       "      <td>-0.238724867</td>\n",
       "      <td>0.084017203</td>\n",
       "      <td>0.960471226</td>\n",
       "      <td>0.599051953</td>\n",
       "      <td>4.228797707</td>\n",
       "      <td>4.343250389</td>\n",
       "      <td>-2.446533672</td>\n",
       "      <td>-2.009515971</td>\n",
       "      <td>0.205327923</td>\n",
       "      <td>-0.226057836</td>\n",
       "    </tr>\n",
       "    <tr>\n",
       "      <th>98</th>\n",
       "      <td>0</td>\n",
       "      <td>0</td>\n",
       "      <td>{'classes': ['0', '1'], 'scores': [0.999858975...</td>\n",
       "      <td>A202978</td>\n",
       "      <td>2.079117597</td>\n",
       "      <td>0.034943081</td>\n",
       "      <td>0.676726673</td>\n",
       "      <td>1.464482311</td>\n",
       "      <td>0.802265884</td>\n",
       "      <td>0.42774779</td>\n",
       "      <td>...</td>\n",
       "      <td>-0.070882688</td>\n",
       "      <td>-0.048387205</td>\n",
       "      <td>-0.076541699</td>\n",
       "      <td>-1.564499903</td>\n",
       "      <td>-0.080450641</td>\n",
       "      <td>0.378175508</td>\n",
       "      <td>-0.805268615</td>\n",
       "      <td>0.323178799</td>\n",
       "      <td>-0.295062712</td>\n",
       "      <td>0.311881447</td>\n",
       "    </tr>\n",
       "    <tr>\n",
       "      <th>99</th>\n",
       "      <td>0</td>\n",
       "      <td>0</td>\n",
       "      <td>{'classes': ['0', '1'], 'scores': [0.998921871...</td>\n",
       "      <td>A135263</td>\n",
       "      <td>-3.885843486</td>\n",
       "      <td>1.067148043</td>\n",
       "      <td>0.445695813</td>\n",
       "      <td>0.945631506</td>\n",
       "      <td>0.925745933</td>\n",
       "      <td>-0.940623232</td>\n",
       "      <td>...</td>\n",
       "      <td>-0.26567061</td>\n",
       "      <td>0.537781176</td>\n",
       "      <td>0.025601516</td>\n",
       "      <td>1.366668251</td>\n",
       "      <td>2.421880787</td>\n",
       "      <td>1.586437296</td>\n",
       "      <td>-0.436408996</td>\n",
       "      <td>-0.267073079</td>\n",
       "      <td>-0.127221225</td>\n",
       "      <td>0.210228711</td>\n",
       "    </tr>\n",
       "  </tbody>\n",
       "</table>\n",
       "<p>100 rows × 32 columns</p>\n",
       "</div>"
      ],
      "text/plain": [
       "   amount class                                    predicted_class      uid  \\\n",
       "0       0     0  {'classes': ['0', '1'], 'scores': [0.999757230...  A177669   \n",
       "1       0     0  {'classes': ['0', '1'], 'scores': [0.999792456...  A173907   \n",
       "2       0     0  {'classes': ['0', '1'], 'scores': [0.999568104...  A131262   \n",
       "3       0     0  {'classes': ['0', '1'], 'scores': [0.999524950...  A103391   \n",
       "4       0     0  {'classes': ['0', '1'], 'scores': [0.999669492...  A133537   \n",
       "..    ...   ...                                                ...      ...   \n",
       "95      0     0  {'classes': ['0', '1'], 'scores': [0.999491930...    A8387   \n",
       "96      0     0  {'classes': ['0', '1'], 'scores': [0.998918592...  A191797   \n",
       "97      0     0  {'classes': ['0', '1'], 'scores': [0.999618649...  A161316   \n",
       "98      0     0  {'classes': ['0', '1'], 'scores': [0.999858975...  A202978   \n",
       "99      0     0  {'classes': ['0', '1'], 'scores': [0.998921871...  A135263   \n",
       "\n",
       "              v1          v10           v11           v12           v13  \\\n",
       "0   -1.005771658  0.047577915  -0.861037283  -0.203845076   0.619057513   \n",
       "1    2.179643887  0.300387691  -1.275377159  -0.598664868  -1.229645119   \n",
       "2   -0.268992308  0.068239822  -1.594267805   0.202640185   1.105694241   \n",
       "3    0.243426752  0.184182984  -0.371880355    0.55608226   0.491201813   \n",
       "4   -0.929699988   0.40138532   0.200009805   0.615586146  -0.217176607   \n",
       "..           ...          ...           ...           ...           ...   \n",
       "95  -0.319472963  0.513002902   1.997996025  -1.773975124   2.755055753   \n",
       "96   1.882226593  1.314816255  -1.823095547  -0.508250731  -1.138742965   \n",
       "97  -2.956092749   1.39514984  -2.015018564   0.154281451   0.115434202   \n",
       "98   2.079117597  0.034943081   0.676726673   1.464482311   0.802265884   \n",
       "99  -3.885843486  1.067148043   0.445695813   0.945631506   0.925745933   \n",
       "\n",
       "             v14  ...           v26           v27           v28            v3  \\\n",
       "0   -0.247185755  ...   2.470206274  -0.156485698   0.027599494   1.519595528   \n",
       "1    1.029418718  ...   0.709802537  -0.135570405  -0.091907826  -2.652050663   \n",
       "2   -0.498228909  ...  -0.171325885   0.042321875   0.025788406   1.694042213   \n",
       "3    0.301633834  ...   0.839887561   0.198165317   0.233434354   0.715695084   \n",
       "4   -0.106266113  ...  -0.634668702   0.062523387   0.343740508   1.549226878   \n",
       "..           ...  ...           ...           ...           ...           ...   \n",
       "95   1.699638236  ...  -0.229380397   0.159103894   0.176801885    1.92644332   \n",
       "96  -0.123171693  ...   0.141150974  -0.005872978  -0.049902437  -0.165758336   \n",
       "97  -0.344799675  ...  -0.238724867   0.084017203   0.960471226   0.599051953   \n",
       "98    0.42774779  ...  -0.070882688  -0.048387205  -0.076541699  -1.564499903   \n",
       "99  -0.940623232  ...   -0.26567061   0.537781176   0.025601516   1.366668251   \n",
       "\n",
       "              v4            v5            v6            v7            v8  \\\n",
       "0    0.383493159   0.763643416  -0.120690716    0.80466248  -0.872072893   \n",
       "1    0.355470952   1.002058838  -1.265588764   0.895277546  -0.508510292   \n",
       "2     1.88908876   0.595605415    0.40926808   0.629258239   0.069031047   \n",
       "3    1.231665609  -0.187426818  -0.461335095  -0.457976376  -1.836685661   \n",
       "4    1.693430329   1.038639374  -0.214544514  -0.032842794   0.248008535   \n",
       "..           ...           ...           ...           ...           ...   \n",
       "95   2.907521904   0.668914523   0.241443829   0.126259374   0.054475708   \n",
       "96   4.056814331  -0.087563473    0.23657199  -0.255124921   0.096423964   \n",
       "97   4.228797707   4.343250389  -2.446533672  -2.009515971   0.205327923   \n",
       "98  -0.080450641   0.378175508  -0.805268615   0.323178799  -0.295062712   \n",
       "99   2.421880787   1.586437296  -0.436408996  -0.267073079  -0.127221225   \n",
       "\n",
       "              v9  \n",
       "0   -1.700160777  \n",
       "1    0.016497432  \n",
       "2   -0.946909822  \n",
       "3      -0.286415  \n",
       "4   -0.598264605  \n",
       "..           ...  \n",
       "95  -0.495370519  \n",
       "96  -0.097107001  \n",
       "97  -0.226057836  \n",
       "98   0.311881447  \n",
       "99   0.210228711  \n",
       "\n",
       "[100 rows x 32 columns]"
      ]
     },
     "execution_count": 127,
     "metadata": {},
     "output_type": "execute_result"
    }
   ],
   "source": [
    "t"
   ]
  },
  {
   "cell_type": "code",
   "execution_count": 128,
   "id": "8cbf871f-2707-4470-ac6f-5a28a64a2c3b",
   "metadata": {},
   "outputs": [],
   "source": [
    "d_publish = str(t.T.to_json())"
   ]
  },
  {
   "cell_type": "code",
   "execution_count": 100,
   "id": "6f9de2a6-6dd8-4d22-a99e-8300f582d149",
   "metadata": {},
   "outputs": [],
   "source": [
    "#d_publish"
   ]
  },
  {
   "cell_type": "code",
   "execution_count": 13,
   "id": "6e732908-48c7-4c48-ba55-b84859acf43b",
   "metadata": {},
   "outputs": [],
   "source": [
    "new_df = t.drop(columns=['uid', 'class'])"
   ]
  },
  {
   "cell_type": "code",
   "execution_count": 52,
   "id": "3a06c3d5-aa3c-49a7-809a-a6a10f34ff69",
   "metadata": {},
   "outputs": [],
   "source": [
    "ip_data = new_df.head(10)"
   ]
  },
  {
   "cell_type": "code",
   "execution_count": 136,
   "id": "56c204a1-c58a-409f-8608-35e26dfb21dd",
   "metadata": {},
   "outputs": [
    {
     "data": {
      "text/plain": [
       "LoadJob<project=qwiklabs-gcp-01-df00ef1cf655, location=us-central1, id=46b86cc0-4b61-4bb4-b01d-074487a9c519>"
      ]
     },
     "execution_count": 136,
     "metadata": {},
     "output_type": "execute_result"
    }
   ],
   "source": [
    "#client.load_table_from_dataframe(dataframe= df, destination=table_id)"
   ]
  },
  {
   "cell_type": "code",
   "execution_count": 139,
   "id": "288a03a0-9fb9-49ac-aa5b-7d5c9a8eddf1",
   "metadata": {},
   "outputs": [],
   "source": [
    "#ta = client.list_tables(\"qwiklabs-gcp-01-df00ef1cf655.credit\")"
   ]
  },
  {
   "cell_type": "code",
   "execution_count": null,
   "id": "bd52773e-171a-4c5a-a363-eebd0dbe7dc1",
   "metadata": {},
   "outputs": [],
   "source": [
    "    # gcc_aip.ModelBatchPredictOp(\n",
    "    #                             project = project_id,\n",
    "    #                             job_display_name = \"scoring_test_model_\" + ts,\n",
    "    #                             location = 'us-central1',\n",
    "    #                             model = loaded_model.output,\n",
    "    #                             instances_format=\"csv\",\n",
    "    #                             gcs_source_uris=dataset_path,\n",
    "    #                             bigquery_destination_output_uri = big_query_op,\n",
    "    #                             ).after(batch_input_data_op)\n",
    "\n"
   ]
  },
  {
   "cell_type": "code",
   "execution_count": 5,
   "id": "14d17c25-e5a0-4a29-8053-c4174edbb89c",
   "metadata": {},
   "outputs": [],
   "source": [
    "endpoint = aip.Endpoint(endpoint_name = '3010660748943687680', project=PROJECT_ID, location='us-central1')"
   ]
  },
  {
   "cell_type": "code",
   "execution_count": 53,
   "id": "c8f74504-c296-4276-80aa-7f4ea8fadb5e",
   "metadata": {},
   "outputs": [],
   "source": [
    "ip_data = ip_data.astype(str)"
   ]
  },
  {
   "cell_type": "code",
   "execution_count": 54,
   "id": "3c95728d-41b8-4d6b-9b03-269a1e1ef4a1",
   "metadata": {},
   "outputs": [],
   "source": [
    "d = ip_data.T.to_dict().values()"
   ]
  },
  {
   "cell_type": "code",
   "execution_count": null,
   "id": "7ef0b4e0-d5f1-458f-8e9c-2376ed0912da",
   "metadata": {},
   "outputs": [],
   "source": []
  },
  {
   "cell_type": "code",
   "execution_count": 56,
   "id": "ef7fd909-eb16-453d-8c90-475a7b5ecc40",
   "metadata": {},
   "outputs": [],
   "source": [
    "res = endpoint.predict(d)"
   ]
  },
  {
   "cell_type": "code",
   "execution_count": 57,
   "id": "ca3729ed-2d81-4e73-9ea9-fdc1681093fa",
   "metadata": {},
   "outputs": [
    {
     "name": "stdout",
     "output_type": "stream",
     "text": [
      "{'scores': [0.9995893836021423, 0.0004106451524421573], 'classes': ['0', '1']}\n",
      "{'classes': ['0', '1'], 'scores': [0.9997668862342834, 0.0002330496645299718]}\n",
      "{'scores': [0.9997137188911438, 0.0002863074187189341], 'classes': ['0', '1']}\n",
      "{'classes': ['0', '1'], 'scores': [0.9996871948242188, 0.0003127176314592361]}\n",
      "{'scores': [0.9994317293167114, 0.0005681620095856488], 'classes': ['0', '1']}\n",
      "{'scores': [0.9998094439506531, 0.0001905228564282879], 'classes': ['0', '1']}\n",
      "{'scores': [0.9996927380561829, 0.0003072416293434799], 'classes': ['0', '1']}\n",
      "{'scores': [0.9992913603782654, 0.0007085721590556204], 'classes': ['0', '1']}\n",
      "{'classes': ['0', '1'], 'scores': [0.9993150234222412, 0.000685076869558543]}\n",
      "{'classes': ['0', '1'], 'scores': [0.9992673397064209, 0.0007326480117626488]}\n"
     ]
    }
   ],
   "source": [
    "for prediction_ in res.predictions:\n",
    "        print(prediction_)"
   ]
  },
  {
   "cell_type": "code",
   "execution_count": 1,
   "id": "2df2b7d7-f649-4737-ba8a-8cb3f41b9d87",
   "metadata": {},
   "outputs": [],
   "source": [
    "from google_cloud_pipeline_components.experimental.dataproc import \\\n",
    "        DataprocPySparkBatchOp"
   ]
  },
  {
   "cell_type": "code",
   "execution_count": null,
   "id": "0d9382de-c4a4-4e9b-8ecc-34e139ada07d",
   "metadata": {},
   "outputs": [],
   "source": [
    "DataprocPySparkBatchOp()"
   ]
  },
  {
   "cell_type": "code",
   "execution_count": 129,
   "id": "7807000b-5451-4c32-8d93-f0efc08009ff",
   "metadata": {},
   "outputs": [
    {
     "name": "stdout",
     "output_type": "stream",
     "text": [
      "5783237892996646\n",
      "5783213236451640\n",
      "5783237347397717\n",
      "5783212452112260\n",
      "5783248283712547\n",
      "5783207552133286\n",
      "5783235593549220\n",
      "5783213791725602\n",
      "5783192622782321\n",
      "Published messages with custom attributes to projects/qwiklabs-gcp-01-df00ef1cf655/topics/credit.\n"
     ]
    }
   ],
   "source": [
    "from google.cloud import pubsub_v1\n",
    "\n",
    "# TODO(developer)\n",
    "project_id = PROJECT_ID\n",
    "topic_id = \"credit\"\n",
    "\n",
    "publisher = pubsub_v1.PublisherClient()\n",
    "topic_path = publisher.topic_path(project_id, topic_id)\n",
    "\n",
    "for n in range(1, 10):\n",
    "    #data_str = f\"Message number {n}\"\n",
    "    data_str = d_publish\n",
    "    # Data must be a bytestring\n",
    "    data = data_str.encode(\"utf-8\")\n",
    "    # Add two attributes, origin and username, to the message\n",
    "    future = publisher.publish(\n",
    "        topic_path, data, origin=\"python-sample\", username=\"gcp\"\n",
    "    )\n",
    "    print(future.result())\n",
    "\n",
    "print(f\"Published messages with custom attributes to {topic_path}.\")"
   ]
  },
  {
   "cell_type": "code",
   "execution_count": null,
   "id": "28db74b2-78d0-4274-9892-f9dcda3d12be",
   "metadata": {},
   "outputs": [],
   "source": []
  }
 ],
 "metadata": {
  "environment": {
   "kernel": "python3",
   "name": "tf2-gpu.2-1.m96",
   "type": "gcloud",
   "uri": "gcr.io/deeplearning-platform-release/tf2-gpu.2-1:m96"
  },
  "kernelspec": {
   "display_name": "Python 3",
   "language": "python",
   "name": "python3"
  },
  "language_info": {
   "codemirror_mode": {
    "name": "ipython",
    "version": 3
   },
   "file_extension": ".py",
   "mimetype": "text/x-python",
   "name": "python",
   "nbconvert_exporter": "python",
   "pygments_lexer": "ipython3",
   "version": "3.7.12"
  }
 },
 "nbformat": 4,
 "nbformat_minor": 5
}
